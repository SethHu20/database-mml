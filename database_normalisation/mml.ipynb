{
 "cells": [
  {
   "attachments": {},
   "cell_type": "markdown",
   "metadata": {},
   "source": [
    "# DZ-2010-DBMML\n",
    "\n",
    "Replicating Dowe & Nayyar 2010 *\"Database Normalisation as a By-Product of Minimum Message Length Inferencing\"*"
   ]
  },
  {
   "cell_type": "code",
   "execution_count": 1,
   "metadata": {},
   "outputs": [],
   "source": [
    "from mml import *\n",
    "import pandas as pd"
   ]
  },
  {
   "attachments": {},
   "cell_type": "markdown",
   "metadata": {},
   "source": [
    "## Table 8 replication\n",
    "\n",
    "$L = 11$ in 1NF, shown in Table 8"
   ]
  },
  {
   "cell_type": "code",
   "execution_count": 2,
   "metadata": {},
   "outputs": [
    {
     "data": {
      "text/html": [
       "<div>\n",
       "<style scoped>\n",
       "    .dataframe tbody tr th:only-of-type {\n",
       "        vertical-align: middle;\n",
       "    }\n",
       "\n",
       "    .dataframe tbody tr th {\n",
       "        vertical-align: top;\n",
       "    }\n",
       "\n",
       "    .dataframe thead th {\n",
       "        text-align: right;\n",
       "    }\n",
       "</style>\n",
       "<table border=\"1\" class=\"dataframe\">\n",
       "  <thead>\n",
       "    <tr style=\"text-align: right;\">\n",
       "      <th></th>\n",
       "      <th>name</th>\n",
       "      <th>1P</th>\n",
       "      <th>2P</th>\n",
       "      <th>ML</th>\n",
       "    </tr>\n",
       "  </thead>\n",
       "  <tbody>\n",
       "    <tr>\n",
       "      <th>0</th>\n",
       "      <td>DZ-1NF</td>\n",
       "      <td>10.228819</td>\n",
       "      <td>203.034011</td>\n",
       "      <td>213.262830</td>\n",
       "    </tr>\n",
       "    <tr>\n",
       "      <th>1</th>\n",
       "      <td>DZ-2NF</td>\n",
       "      <td>36.471091</td>\n",
       "      <td>154.848946</td>\n",
       "      <td>191.320037</td>\n",
       "    </tr>\n",
       "    <tr>\n",
       "      <th>2</th>\n",
       "      <td>DZ-3NF</td>\n",
       "      <td>46.284872</td>\n",
       "      <td>153.848946</td>\n",
       "      <td>200.133818</td>\n",
       "    </tr>\n",
       "  </tbody>\n",
       "</table>\n",
       "</div>"
      ],
      "text/plain": [
       "     name         1P          2P          ML\n",
       "0  DZ-1NF  10.228819  203.034011  213.262830\n",
       "1  DZ-2NF  36.471091  154.848946  191.320037\n",
       "2  DZ-3NF  46.284872  153.848946  200.133818"
      ]
     },
     "execution_count": 2,
     "metadata": {},
     "output_type": "execute_result"
    }
   ],
   "source": [
    "t8_results = pd.DataFrame(\n",
    "    [test_1nf(), test_2nf(), test_3nf()],\n",
    "    columns=[\"name\", \"attr\", \"tables\", \"1P\", \"2P\", \"ML\"],\n",
    ")\n",
    "t8_results.style.set_caption('Recreation of Table 8')\n",
    "t8_results[[\"name\", \"1P\", \"2P\", \"ML\"]].to_csv('output/table8.csv')\n",
    "t8_results[[\"name\", \"1P\", \"2P\", \"ML\"]]"
   ]
  },
  {
   "attachments": {},
   "cell_type": "markdown",
   "metadata": {},
   "source": [
    "## Table 9 replication"
   ]
  },
  {
   "cell_type": "code",
   "execution_count": 3,
   "metadata": {},
   "outputs": [
    {
     "data": {
      "text/html": [
       "<div>\n",
       "<style scoped>\n",
       "    .dataframe tbody tr th:only-of-type {\n",
       "        vertical-align: middle;\n",
       "    }\n",
       "\n",
       "    .dataframe tbody tr th {\n",
       "        vertical-align: top;\n",
       "    }\n",
       "\n",
       "    .dataframe thead th {\n",
       "        text-align: right;\n",
       "    }\n",
       "</style>\n",
       "<table border=\"1\" class=\"dataframe\">\n",
       "  <thead>\n",
       "    <tr style=\"text-align: right;\">\n",
       "      <th></th>\n",
       "      <th>name</th>\n",
       "      <th>1P</th>\n",
       "      <th>2P</th>\n",
       "      <th>ML</th>\n",
       "    </tr>\n",
       "  </thead>\n",
       "  <tbody>\n",
       "    <tr>\n",
       "      <th>0</th>\n",
       "      <td>DZ-1NF</td>\n",
       "      <td>10.228819</td>\n",
       "      <td>14211.873643</td>\n",
       "      <td>14222.102462</td>\n",
       "    </tr>\n",
       "    <tr>\n",
       "      <th>1</th>\n",
       "      <td>DZ-2NF</td>\n",
       "      <td>36.471091</td>\n",
       "      <td>8149.535567</td>\n",
       "      <td>8186.006658</td>\n",
       "    </tr>\n",
       "    <tr>\n",
       "      <th>2</th>\n",
       "      <td>DZ-3NF</td>\n",
       "      <td>46.284872</td>\n",
       "      <td>7876.053225</td>\n",
       "      <td>7922.338097</td>\n",
       "    </tr>\n",
       "  </tbody>\n",
       "</table>\n",
       "</div>"
      ],
      "text/plain": [
       "     name         1P            2P            ML\n",
       "0  DZ-1NF  10.228819  14211.873643  14222.102462\n",
       "1  DZ-2NF  36.471091   8149.535567   8186.006658\n",
       "2  DZ-3NF  46.284872   7876.053225   7922.338097"
      ]
     },
     "execution_count": 3,
     "metadata": {},
     "output_type": "execute_result"
    }
   ],
   "source": [
    "t9_attributes_instances = [100, 100, 100, 100, 30, 30, 15, 15, 3, 3]\n",
    "t9_L = 300\n",
    "t9_results = pd.DataFrame(\n",
    "    [\n",
    "        test_1nf(t9_attributes_instances, t9_L),\n",
    "        test_2nf(t9_attributes_instances, t9_L),\n",
    "        test_3nf(t9_attributes_instances, t9_L),\n",
    "    ],\n",
    "    columns=[\"name\", \"attr\", \"tables\", \"1P\", \"2P\", \"ML\"],\n",
    ")\n",
    "t9_results.style.set_caption(\"Recreation of Table 9\")\n",
    "t9_results[[\"name\", \"1P\", \"2P\", \"ML\"]].to_csv(\"output/table9.csv\")\n",
    "t9_results[[\"name\", \"1P\", \"2P\", \"ML\"]]\n"
   ]
  }
 ],
 "metadata": {
  "kernelspec": {
   "display_name": "Python 3",
   "language": "python",
   "name": "python3"
  },
  "language_info": {
   "codemirror_mode": {
    "name": "ipython",
    "version": 3
   },
   "file_extension": ".py",
   "mimetype": "text/x-python",
   "name": "python",
   "nbconvert_exporter": "python",
   "pygments_lexer": "ipython3",
   "version": "3.11.0"
  },
  "orig_nbformat": 4
 },
 "nbformat": 4,
 "nbformat_minor": 2
}
